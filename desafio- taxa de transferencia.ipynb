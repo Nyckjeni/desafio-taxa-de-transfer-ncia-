{
 "cells": [
  {
   "cell_type": "code",
   "execution_count": 15,
   "metadata": {},
   "outputs": [
    {
     "name": "stdout",
     "output_type": "stream",
     "text": [
      " O valor final da transferência é: 200.0\n"
     ]
    }
   ],
   "source": [
    "# variavéis necessárias: ano(ano do carro), preco(valor do carro), taxa1(mais 1%),taxa2(mais 1,5%)\n",
    "\n",
    "# declarção da variável ano, para perguntar o ano de fabricação do carro\n",
    "ano = int (input ('Qual o ano de fabricação do seu carro?'))\n",
    "\n",
    "\n",
    "# declaração da variável preço, para perguntar qual o valor da compra do carro\n",
    "# foi usada a classificação float para usar números com vírgula.\n",
    "preco =  int (input ('Qual o preço do seu carro?'))\n",
    "\n",
    "# se ano for menor que 1990 \n",
    "if ( ano<=1989 ):\n",
    "    \n",
    "    # 1% é igual a 1 dividido por cem\n",
    "    taxa1= 1/100\n",
    "    \n",
    "     # calculo: multiplicação de preco por 1.5/300(igual a 1,5%), depois soma o resultado com o preço do carro e para ficar só o valor da taxa subtrae pelo valo de carro \n",
    "    print( ' O valor final da transferência é:', ((preco * taxa1)+ preco) - preco)\n",
    "\n",
    "# senão o ano do carro é maior ou igual a 1990 \n",
    "else:\n",
    "\n",
    "# 1,5% é igual a 1,5 dividido por cem\n",
    "   taxa2= 1.5/100\n",
    "   \n",
    "   # calculo: multiplicação de preco por 1.5/300(igual a 1,5%), depois soma o resultado com o preço do carro e para ficar só o valor da taxa subtrae pelo valo de carro \n",
    "   print( ' O valor final da transferência é:', ((preco * taxa2)+ preco) - preco)\n"
   ]
  }
 ],
 "metadata": {
  "kernelspec": {
   "display_name": "Python 3",
   "language": "python",
   "name": "python3"
  },
  "language_info": {
   "codemirror_mode": {
    "name": "ipython",
    "version": 3
   },
   "file_extension": ".py",
   "mimetype": "text/x-python",
   "name": "python",
   "nbconvert_exporter": "python",
   "pygments_lexer": "ipython3",
   "version": "3.12.0"
  }
 },
 "nbformat": 4,
 "nbformat_minor": 2
}
